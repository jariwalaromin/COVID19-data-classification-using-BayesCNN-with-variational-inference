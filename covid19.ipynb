{
 "cells": [
  {
   "cell_type": "markdown",
   "metadata": {},
   "source": [
    "# Bayesian Network Approach"
   ]
  },
  {
   "cell_type": "code",
   "execution_count": 45,
   "metadata": {
    "colab": {},
    "colab_type": "code",
    "id": "sB06DqUSajLM"
   },
   "outputs": [],
   "source": [
    "from __future__ import print_function\n",
    "from torch.optim import Adam, lr_scheduler\n",
    "import matplotlib.pyplot as plt\n",
    "import torch\n",
    "import torchvision\n",
    "import torch.nn.functional as F\n",
    "import torch.nn as nn\n",
    "import torch.optim as optim\n",
    "from torch.utils.data import Dataset, DataLoader\n",
    "from albumentations.pytorch import ToTensor\n",
    "from torchvision import transforms\n",
    "from torch.nn import Parameter\n",
    "torch.cuda.empty_cache()\n",
    "import os\n",
    "import numpy as np\n",
    "import pandas as pd\n",
    "from PIL import Image\n",
    "import math\n",
    "from sklearn.metrics import accuracy_score,confusion_matrix,f1_score"
   ]
  },
  {
   "cell_type": "code",
   "execution_count": 46,
   "metadata": {},
   "outputs": [],
   "source": [
    "def logmeanexp(x, dim=None, keepdim=False):\n",
    "    \"\"\"Stable computation of log(mean(exp(x))\"\"\"\n",
    "\n",
    "    if dim is None:\n",
    "        x, dim = x.view(-1), 0\n",
    "    x_max, _ = torch.max(x, dim, keepdim=True)\n",
    "    x = x_max + torch.log(torch.mean(torch.exp(x - x_max), dim, keepdim=True))\n",
    "    return x if keepdim else x.squeeze(dim)"
   ]
  },
  {
   "cell_type": "markdown",
   "metadata": {},
   "source": [
    "# Wrapper for nn.Module with support for arbitrary flags and a universal forward pass"
   ]
  },
  {
   "cell_type": "code",
   "execution_count": 47,
   "metadata": {},
   "outputs": [],
   "source": [
    "class ModuleWrapper(nn.Module):\n",
    "\n",
    "    def __init__(self):\n",
    "        super(ModuleWrapper, self).__init__()\n",
    "\n",
    "    def set_flag(self, flag_name, value):\n",
    "        setattr(self, flag_name, value)\n",
    "        for m in self.children():\n",
    "            if hasattr(m, 'set_flag'):\n",
    "                m.set_flag(flag_name, value)\n",
    "\n",
    "    def forward(self, x):\n",
    "        for module in self.children():\n",
    "            x = module(x)\n",
    "\n",
    "        kl = 0.0\n",
    "        for module in self.modules():\n",
    "            if hasattr(module, 'kl_loss'):\n",
    "                kl = kl + module.kl_loss()\n",
    "\n",
    "        return x, kl"
   ]
  },
  {
   "cell_type": "markdown",
   "metadata": {},
   "source": [
    "# Layer - Flatten "
   ]
  },
  {
   "cell_type": "code",
   "execution_count": 48,
   "metadata": {},
   "outputs": [],
   "source": [
    "class FlattenLayer(ModuleWrapper):\n",
    "\n",
    "    def __init__(self, num_features):\n",
    "        super(FlattenLayer, self).__init__()\n",
    "        self.num_features = num_features\n",
    "\n",
    "    def forward(self, x):\n",
    "        return x.view(-1, self.num_features)"
   ]
  },
  {
   "cell_type": "markdown",
   "metadata": {},
   "source": [
    "# Layers - The Local Reparameterization Trick"
   ]
  },
  {
   "cell_type": "markdown",
   "metadata": {},
   "source": [
    "### Convolutional Layer"
   ]
  },
  {
   "cell_type": "code",
   "execution_count": 49,
   "metadata": {},
   "outputs": [],
   "source": [
    "class BBBConv2d(ModuleWrapper):\n",
    "\n",
    "    def __init__(self, in_channels, out_channels, kernel_size, stride=1,\n",
    "                 padding=0, dilation=1, bias=True, priors=None):\n",
    "        super(BBBConv2d, self).__init__()\n",
    "        self.in_channels = in_channels\n",
    "        self.out_channels = out_channels\n",
    "        self.kernel_size = (kernel_size, kernel_size)\n",
    "        self.stride = stride\n",
    "        self.padding = padding\n",
    "        self.dilation = dilation\n",
    "        self.groups = 1\n",
    "        self.use_bias = bias\n",
    "        self.device = torch.device(\"cuda:0\" if torch.cuda.is_available() else \"cpu\")\n",
    "\n",
    "        if priors is None:\n",
    "            priors = {\n",
    "                'prior_mu': 0,\n",
    "                'prior_sigma': 0.1,\n",
    "                'posterior_mu_initial': (0, 0.1),\n",
    "                'posterior_rho_initial': (-3, 0.1),\n",
    "            }\n",
    "            \n",
    "        #initial mu and sigma\n",
    "        self.prior_mu = priors['prior_mu']\n",
    "        self.prior_sigma = priors['prior_sigma']\n",
    "        self.posterior_mu_initial = priors['posterior_mu_initial']\n",
    "        self.posterior_rho_initial = priors['posterior_rho_initial']\n",
    "\n",
    "        #creating distributions over weight matrix\n",
    "        self.W_mu = Parameter(torch.Tensor(out_channels, in_channels, *self.kernel_size))\n",
    "        self.W_rho = Parameter(torch.Tensor(out_channels, in_channels, *self.kernel_size))\n",
    "        if self.use_bias:\n",
    "            self.bias_mu = Parameter(torch.Tensor(out_channels))\n",
    "            self.bias_rho = Parameter(torch.Tensor(out_channels))\n",
    "        else:\n",
    "            self.register_parameter('bias_mu', None)\n",
    "            self.register_parameter('bias_rho', None)\n",
    "\n",
    "        self.reset_parameters()\n",
    "\n",
    "    def reset_parameters(self):\n",
    "        self.W_mu.data.normal_(*self.posterior_mu_initial)\n",
    "        self.W_rho.data.normal_(*self.posterior_rho_initial)\n",
    "\n",
    "        if self.use_bias:\n",
    "            self.bias_mu.data.normal_(*self.posterior_mu_initial)\n",
    "            self.bias_rho.data.normal_(*self.posterior_rho_initial)\n",
    "\n",
    "    def forward(self, x, sample= True):\n",
    "        self.W_sigma = torch.log1p(torch.exp(self.W_rho))\n",
    "        if self.use_bias:\n",
    "            self.bias_sigma = torch.log1p(torch.exp(self.bias_rho))\n",
    "            bias_var = self.bias_sigma ** 2\n",
    "        else:\n",
    "            self.bias_sigma = bias_var = None\n",
    "\n",
    "        #Adding two more convolutional operations to calculating actual mean and actual variance\n",
    "        act_mu = F.conv2d(\n",
    "            x, self.W_mu, self.bias_mu, self.stride, self.padding, self.dilation, self.groups)\n",
    "        act_var = 1e-16 + F.conv2d(\n",
    "            x ** 2, self.W_sigma ** 2, bias_var, self.stride, self.padding, self.dilation, self.groups)\n",
    "        act_std = torch.sqrt(act_var)\n",
    "\n",
    "        if self.training or sample:\n",
    "            eps = torch.empty(act_mu.size()).normal_(0, 1).to(self.device)\n",
    "            return act_mu + act_std * eps\n",
    "        else:\n",
    "            return act_mu\n",
    "\n",
    "    # calculating KL divergence\n",
    "    def kl_loss(self):\n",
    "        kl = calculate_kl(self.prior_mu, self.prior_sigma, self.W_mu, self.W_sigma)\n",
    "        if self.use_bias:\n",
    "            kl += calculate_kl(self.prior_mu, self.prior_sigma, self.bias_mu, self.bias_sigma)\n",
    "        return kl"
   ]
  },
  {
   "cell_type": "markdown",
   "metadata": {},
   "source": [
    "### Fully connected Layer"
   ]
  },
  {
   "cell_type": "code",
   "execution_count": 50,
   "metadata": {},
   "outputs": [],
   "source": [
    "class BBBLinear(ModuleWrapper):\n",
    "\n",
    "    def __init__(self, in_features, out_features, bias=True, priors=None):\n",
    "        super(BBBLinear, self).__init__()\n",
    "        self.in_features = in_features\n",
    "        self.out_features = out_features\n",
    "        self.use_bias = bias\n",
    "        self.device = torch.device(\"cuda:0\" if torch.cuda.is_available() else \"cpu\")\n",
    "\n",
    "        if priors is None:\n",
    "                priors = {\n",
    "                'prior_mu': 0,\n",
    "                'prior_sigma': 0.1,\n",
    "                'posterior_mu_initial': (0, 0.1),\n",
    "                'posterior_rho_initial': (-3, 0.1),\n",
    "            }\n",
    "        self.prior_mu = priors['prior_mu']\n",
    "        self.prior_sigma = priors['prior_sigma']\n",
    "        self.posterior_mu_initial = priors['posterior_mu_initial']\n",
    "        self.posterior_rho_initial = priors['posterior_rho_initial']\n",
    "\n",
    "        self.W_mu = Parameter(torch.Tensor(out_features, in_features))\n",
    "        self.W_rho = Parameter(torch.Tensor(out_features, in_features))\n",
    "        if self.use_bias:\n",
    "            self.bias_mu = Parameter(torch.Tensor(out_features))\n",
    "            self.bias_rho = Parameter(torch.Tensor(out_features))\n",
    "        else:\n",
    "            self.register_parameter('bias_mu', None)\n",
    "            self.register_parameter('bias_rho', None)\n",
    "\n",
    "        self.reset_parameters()\n",
    "\n",
    "    def reset_parameters(self):\n",
    "        self.W_mu.data.normal_(*self.posterior_mu_initial)\n",
    "        self.W_rho.data.normal_(*self.posterior_rho_initial)\n",
    "\n",
    "        if self.use_bias:\n",
    "            self.bias_mu.data.normal_(*self.posterior_mu_initial)\n",
    "            self.bias_rho.data.normal_(*self.posterior_rho_initial)\n",
    "\n",
    "    def forward(self, x, sample=True):\n",
    "\n",
    "        self.W_sigma = torch.log1p(torch.exp(self.W_rho))\n",
    "        if self.use_bias:\n",
    "            self.bias_sigma = torch.log1p(torch.exp(self.bias_rho))\n",
    "            bias_var = self.bias_sigma ** 2\n",
    "        else:\n",
    "            self.bias_sigma = bias_var = None\n",
    "        \n",
    "        #Adding two more convolutional operations to calculating actual mean and actual variance\n",
    "        act_mu = F.linear(x, self.W_mu, self.bias_mu)\n",
    "        act_var = 1e-16 + F.linear(x ** 2, self.W_sigma ** 2, bias_var)\n",
    "        act_std = torch.sqrt(act_var)\n",
    "\n",
    "        if self.training or sample:\n",
    "            eps = torch.empty(act_mu.size()).normal_(0, 1).to(self.device)\n",
    "            return act_mu + act_std * eps\n",
    "        else:\n",
    "            return act_mu\n",
    "\n",
    "    def kl_loss(self):\n",
    "        kl = calculate_kl(self.prior_mu, self.prior_sigma, self.W_mu, self.W_sigma)\n",
    "        if self.use_bias:\n",
    "            kl += calculate_kl(self.prior_mu, self.prior_sigma, self.bias_mu, self.bias_sigma)\n",
    "        return kl"
   ]
  },
  {
   "cell_type": "markdown",
   "metadata": {},
   "source": [
    "# Model- The architecture of LeNet with Bayesian Layers"
   ]
  },
  {
   "cell_type": "code",
   "execution_count": 51,
   "metadata": {},
   "outputs": [],
   "source": [
    "class BBBLeNet(ModuleWrapper):\n",
    "\n",
    "    def __init__(self, outputs, inputs, priors, layer_type='lrt', activation_type='softplus'):\n",
    "        super(BBBLeNet, self).__init__()\n",
    "\n",
    "        self.num_classes = outputs\n",
    "        self.layer_type = layer_type\n",
    "        self.priors = priors\n",
    "        \n",
    "        if activation_type=='softplus':\n",
    "            self.act = nn.Softplus\n",
    "        elif activation_type=='relu':\n",
    "            self.act = nn.ReLU\n",
    "        else:\n",
    "            raise ValueError(\"Only softplus or relu supported\")    \n",
    "\n",
    "        self.conv1 = BBBConv2d(inputs, 6, 5, padding=0, bias=True, priors=self.priors)\n",
    "        self.act1 = self.act() #softplus or relu\n",
    "        self.pool1 = nn.MaxPool2d(kernel_size=2, stride=2)\n",
    "\n",
    "        self.conv2 = BBBConv2d(6, 16, 5, padding=0, bias=True, priors=self.priors)\n",
    "        self.act2 = self.act() #softplus or relu\n",
    "        self.pool2 = nn.MaxPool2d(kernel_size=2, stride=2)\n",
    "\n",
    "        self.flatten = FlattenLayer(5 * 5 * 16)\n",
    "        self.fc1 = BBBLinear(5 * 5 * 16, 120, bias=True, priors=self.priors)\n",
    "        self.act3 = self.act() #softplus or relu\n",
    "\n",
    "        self.fc2 = BBBLinear(120, 84, bias=True, priors=self.priors)\n",
    "        self.act4 = self.act() #softplus or relu\n",
    "\n",
    "        self.fc3 = BBBLinear(84, outputs, bias=True, priors=self.priors)"
   ]
  },
  {
   "cell_type": "markdown",
   "metadata": {},
   "source": [
    "# Evaluation Metrices"
   ]
  },
  {
   "cell_type": "code",
   "execution_count": 52,
   "metadata": {},
   "outputs": [],
   "source": [
    "class ELBO(nn.Module):\n",
    "    def __init__(self, train_size):\n",
    "        super(ELBO, self).__init__()\n",
    "        self.train_size = train_size\n",
    "\n",
    "    def forward(self, input, target, kl, beta):\n",
    "        assert not target.requires_grad\n",
    "        return F.nll_loss(input, target, reduction='mean') * self.train_size + beta * kl\n",
    "\n",
    "def acc(outputs, targets):\n",
    "    return np.mean(outputs.cpu().numpy().argmax(axis=1) == targets.data.cpu().numpy())\n",
    "\n",
    "\n",
    "def calculate_kl(mu_p, sig_p, mu_q, sig_q):\n",
    "    kl = 0.5 * (2 * torch.log(sig_p / sig_q) - 1 + (sig_q / sig_p).pow(2) + ((mu_p - mu_q) / sig_p).pow(2)).sum()\n",
    "    return kl\n",
    "\n",
    "\n",
    "def get_beta(batch_idx, m, beta_type, epoch, num_epochs):\n",
    "    if type(beta_type) is float:\n",
    "        return beta_type\n",
    "\n",
    "    if beta_type == \"Blundell\":\n",
    "        beta = 2 ** (m - (batch_idx + 1)) / (2 ** m - 1)\n",
    "    elif beta_type == \"Soenderby\":\n",
    "        if epoch is None or num_epochs is None:\n",
    "            raise ValueError('Soenderby method requires both epoch and num_epochs to be passed.')\n",
    "        beta = min(epoch / (num_epochs // 4), 1)\n",
    "    elif beta_type == \"Standard\":\n",
    "        beta = 1 / m\n",
    "    else:\n",
    "        beta = 0\n",
    "    return beta"
   ]
  },
  {
   "cell_type": "markdown",
   "metadata": {},
   "source": [
    "# Main code block"
   ]
  },
  {
   "cell_type": "markdown",
   "metadata": {},
   "source": [
    "### Methods for Preprocess dataset"
   ]
  },
  {
   "cell_type": "code",
   "execution_count": 53,
   "metadata": {
    "colab": {},
    "colab_type": "code",
    "id": "o_bXcPydcKIG"
   },
   "outputs": [],
   "source": [
    "normalize = transforms.Normalize(mean=[0.45271412],\n",
    "                                     std=[0.33165374])\n",
    "train_transformer = transforms.Compose([\n",
    "    transforms.Grayscale(num_output_channels=1),\n",
    "    transforms.Resize(256),\n",
    "    transforms.RandomResizedCrop((32),scale=(0.5,1.0)),\n",
    "    transforms.RandomHorizontalFlip(),\n",
    "    transforms.ColorJitter(brightness=0.2, contrast=0.2),\n",
    "    transforms.ToTensor(),\n",
    "    normalize\n",
    "])\n",
    "\n",
    "val_transformer = transforms.Compose([\n",
    "    transforms.Grayscale(num_output_channels=1),\n",
    "    transforms.Resize((32,32)),\n",
    "    transforms.ToTensor(),\n",
    "    normalize\n",
    "])"
   ]
  },
  {
   "cell_type": "markdown",
   "metadata": {},
   "source": [
    "### Load datasets"
   ]
  },
  {
   "cell_type": "code",
   "execution_count": 54,
   "metadata": {
    "colab": {
     "base_uri": "https://localhost:8080/",
     "height": 67
    },
    "colab_type": "code",
    "id": "RuMrzVozcTcC",
    "outputId": "4aaa52af-f628-44b2-8e53-e88b5502b5d0"
   },
   "outputs": [
    {
     "name": "stdout",
     "output_type": "stream",
     "text": [
      "trian_set_length=> 425\n",
      "valid_set_length=> 118\n",
      "test_set_length=> 203\n"
     ]
    }
   ],
   "source": [
    "batchsize=4\n",
    "def read_txt(txt_path):\n",
    "    with open(txt_path) as f:\n",
    "        lines = f.readlines()\n",
    "    txt_data = [line.strip() for line in lines]\n",
    "    return txt_data\n",
    "\n",
    "class CovidCTDataset(Dataset):\n",
    "    def __init__(self, root_dir, txt_COVID, txt_NonCOVID, transform=None):\n",
    "        self.root_dir = root_dir\n",
    "        self.txt_path = [txt_COVID,txt_NonCOVID]\n",
    "        self.classes = ['CT_COVID', 'CT_NonCOVID']\n",
    "        self.num_cls = len(self.classes)\n",
    "        self.img_list = []\n",
    "        for c in range(self.num_cls):\n",
    "            cls_list = [[os.path.join(self.root_dir,self.classes[c],item), c] for item in read_txt(self.txt_path[c])]\n",
    "            self.img_list += cls_list\n",
    "        self.transform = transform\n",
    "\n",
    "    def __len__(self):\n",
    "        return len(self.img_list)\n",
    "\n",
    "    def __getitem__(self, idx):\n",
    "        if torch.is_tensor(idx):\n",
    "            idx = idx.tolist()\n",
    "\n",
    "        img_path = self.img_list[idx][0]\n",
    "        image = Image.open(img_path).convert('RGB')\n",
    "\n",
    "        if self.transform:\n",
    "            image = self.transform(image)\n",
    "        sample = {'img': image,\n",
    "                  'label': int(self.img_list[idx][1])}\n",
    "        return sample\n",
    "    \n",
    "if __name__ == '__main__':\n",
    "    trainset = CovidCTDataset(root_dir='Images-processed',\n",
    "                              txt_COVID='Data-split/COVID/trainCT_COVID.txt',\n",
    "                              txt_NonCOVID='Data-split/NonCOVID/trainCT_NonCOVID.txt',\n",
    "                              transform= train_transformer)\n",
    "    valset = CovidCTDataset(root_dir='Images-processed',\n",
    "                              txt_COVID='Data-split/COVID/valCT_COVID.txt',\n",
    "                              txt_NonCOVID='Data-split/NonCOVID/valCT_NonCOVID.txt',\n",
    "                              transform= val_transformer)\n",
    "    testset = CovidCTDataset(root_dir='Images-processed',\n",
    "                              txt_COVID='Data-split/COVID/testCT_COVID.txt',\n",
    "                              txt_NonCOVID='Data-split/NonCOVID/testCT_NonCOVID.txt',\n",
    "                              transform= val_transformer)\n",
    "    print(\"trian_set_length=>\",trainset.__len__())\n",
    "    print(\"valid_set_length=>\",valset.__len__())\n",
    "    print(\"test_set_length=>\",testset.__len__())\n",
    "\n",
    "    train_loader = DataLoader(trainset, batch_size=batchsize, drop_last=False, shuffle=True)\n",
    "    val_loader = DataLoader(valset, batch_size=batchsize, drop_last=False, shuffle=False)\n",
    "    test_loader = DataLoader(testset, batch_size=batchsize, drop_last=False, shuffle=False)"
   ]
  },
  {
   "cell_type": "code",
   "execution_count": 55,
   "metadata": {
    "colab": {},
    "colab_type": "code",
    "id": "s4A8oWtOCzvo"
   },
   "outputs": [],
   "source": [
    "# CUDA settings\n",
    "device = torch.device(\"cuda:0\" if torch.cuda.is_available() else \"cpu\")"
   ]
  },
  {
   "cell_type": "markdown",
   "metadata": {},
   "source": [
    "### Hyperparameters"
   ]
  },
  {
   "cell_type": "code",
   "execution_count": 56,
   "metadata": {},
   "outputs": [],
   "source": [
    "priors={\n",
    "    'prior_mu': 0,\n",
    "    'prior_sigma': 0.1,\n",
    "    'posterior_mu_initial': (0, 0.1),  # (mean, std) normal_\n",
    "    'posterior_rho_initial': (-5, 0.1),  # (mean, std) normal_\n",
    "    }\n",
    "inputs = 1\n",
    "outputs = 2 # two calsses"
   ]
  },
  {
   "cell_type": "markdown",
   "metadata": {},
   "source": [
    "### Get Model"
   ]
  },
  {
   "cell_type": "code",
   "execution_count": 57,
   "metadata": {
    "colab": {},
    "colab_type": "code",
    "id": "PrKxZbLExf6W"
   },
   "outputs": [],
   "source": [
    "def getModel(net_type, inputs, outputs, priors, layer_type, activation_type):\n",
    "    if (net_type == 'lenet'):\n",
    "        return BBBLeNet(outputs, inputs, priors, layer_type, activation_type)\n",
    "    else:\n",
    "        raise ValueError('Network should [lenet]')"
   ]
  },
  {
   "cell_type": "markdown",
   "metadata": {},
   "source": [
    "### Train model"
   ]
  },
  {
   "cell_type": "code",
   "execution_count": 58,
   "metadata": {
    "colab": {},
    "colab_type": "code",
    "id": "Nf5xNaPBxken"
   },
   "outputs": [],
   "source": [
    "def train_model(net, optimizer, criterion, trainloader, num_ens=1, beta_type=0.1, epoch=None, num_epochs=None):\n",
    "    #net = BBBLenet\n",
    "    net.train()\n",
    "    training_loss = 0.0\n",
    "    accs = []\n",
    "    kl_list = []\n",
    "    for i, batch_samples in enumerate(trainloader, 1):\n",
    "        inputs , labels = batch_samples['img'] , batch_samples['label']\n",
    "        optimizer.zero_grad()\n",
    "\n",
    "        inputs, labels = inputs.to(device), labels.to(device)\n",
    "        outputs = torch.zeros(inputs.shape[0], net.num_classes, num_ens).to(device)\n",
    "\n",
    "        kl = 0.0\n",
    "        for j in range(num_ens):\n",
    "            net_out, _kl = net(inputs)\n",
    "            kl += _kl\n",
    "            outputs[:, :, j] = F.log_softmax(net_out, dim=1)\n",
    "          \n",
    "        kl = kl / num_ens\n",
    "        kl_list.append(kl.item())\n",
    "        log_outputs = logmeanexp(outputs, dim=2)\n",
    "\n",
    "        beta = get_beta(i-1, len(trainloader), beta_type, epoch, num_epochs)\n",
    "        loss = criterion(log_outputs, labels, kl, beta)\n",
    "        loss.backward()\n",
    "        optimizer.step()\n",
    "\n",
    "        accs.append(acc(log_outputs.data, labels))\n",
    "        training_loss += loss.cpu().data.numpy()\n",
    "    return training_loss/len(trainloader), np.mean(accs), np.mean(kl_list)"
   ]
  },
  {
   "cell_type": "markdown",
   "metadata": {},
   "source": [
    "### Validate model"
   ]
  },
  {
   "cell_type": "code",
   "execution_count": 59,
   "metadata": {
    "colab": {},
    "colab_type": "code",
    "id": "cci3y4O2RNV3"
   },
   "outputs": [],
   "source": [
    "def validate_model(net, criterion, validloader, num_ens=1, beta_type=0.1, epoch=None, num_epochs=None):\n",
    "    \"\"\"Calculate ensemble accuracy and NLL Loss\"\"\"\n",
    "    net.train()\n",
    "    valid_loss = 0.0\n",
    "    accs = []\n",
    "    \n",
    "    for i , batch_samples in enumerate(validloader):\n",
    "        inputs , labels = batch_samples['img'] , batch_samples['label']\n",
    "        inputs, labels = inputs.to(device), labels.to(device)\n",
    "        outputs = torch.zeros(inputs.shape[0], net.num_classes, num_ens).to(device)\n",
    "        kl = 0.0\n",
    "        for j in range(num_ens):\n",
    "            net_out, _kl = net(inputs)\n",
    "            kl += _kl\n",
    "            outputs[:, :, j] = F.log_softmax(net_out, dim=1).data\n",
    "\n",
    "        log_outputs = logmeanexp(outputs, dim=2)\n",
    "\n",
    "        beta = get_beta(i-1, len(validloader), beta_type, epoch, num_epochs)\n",
    "        valid_loss += criterion(log_outputs, labels, kl, beta).item()\n",
    "        accs.append(acc(log_outputs, labels))\n",
    "\n",
    "    return valid_loss/len(validloader), np.mean(accs)"
   ]
  },
  {
   "cell_type": "markdown",
   "metadata": {},
   "source": [
    "### Run"
   ]
  },
  {
   "cell_type": "code",
   "execution_count": 60,
   "metadata": {
    "colab": {},
    "colab_type": "code",
    "id": "T1Slyj6pArLM"
   },
   "outputs": [],
   "source": [
    "train_loss_lst = []\n",
    "val_loss_lst = []\n",
    "train_acc_lst = []\n",
    "val_acc_lst = []\n",
    "train_kl_lst= []\n",
    "def runc(train_loader, valid_loader,test_loader,net_type,trainset):\n",
    "    \n",
    "    layer_type = 'lrt'\n",
    "    activation_type = 'softplus'\n",
    "    \n",
    "    #prior distribution parameters\n",
    "    priors={\n",
    "    'prior_mu': 0,\n",
    "    'prior_sigma': 0.1,\n",
    "    'posterior_mu_initial': (0, 0.1),  # (mean, std) normal_\n",
    "    'posterior_rho_initial': (-5, 0.1),  # (mean, std) normal_\n",
    "    }\n",
    "\n",
    "    #hyperparameters\n",
    "    n_epochs = 100\n",
    "    lr_start = 0.001  #initial learning rate\n",
    "    num_workers = 4\n",
    "    valid_size = 0.2\n",
    "    batch_size = 4\n",
    "    train_ens = 1\n",
    "    valid_ens = 1\n",
    "    beta_type = 0.1  # 'Blundell', 'Standard', etc. Use float for const value\n",
    "    inputs = 1\n",
    "    outputs = 2\n",
    "\n",
    "    net = getModel(net_type, inputs, outputs, priors, layer_type, activation_type).to(device)\n",
    "    \n",
    "\n",
    "    ckpt_dir = f'checkpoints'\n",
    "    ckpt_name = f'checkpoints/model_{net_type}_{layer_type}_{activation_type}.pt'\n",
    "\n",
    "    if not os.path.exists(ckpt_dir):\n",
    "        os.makedirs(ckpt_dir, exist_ok=True)\n",
    "\n",
    "    criterion = ELBO(len(trainset)).to(device)  #ELBO : evidence lower bound or Variational lowebound\n",
    "    optimizer = Adam(net.parameters(), lr=lr_start)\n",
    "    lr_sched = lr_scheduler.ReduceLROnPlateau(optimizer, patience=6, verbose=True)\n",
    "    valid_loss_max = np.Inf\n",
    "    for epoch in range(n_epochs):\n",
    "        train_loss, train_acc, train_kl = train_model(net, optimizer, criterion, train_loader, num_ens=train_ens, beta_type=beta_type, epoch=epoch, num_epochs=n_epochs)\n",
    "        valid_loss, valid_acc = validate_model(net, criterion, valid_loader, num_ens=valid_ens, beta_type=beta_type, epoch=epoch, num_epochs=n_epochs)\n",
    "        lr_sched.step(valid_loss)\n",
    "        \n",
    "        train_loss_lst.append(train_loss)\n",
    "        val_loss_lst.append(valid_loss)\n",
    "        train_acc_lst.append(train_acc)\n",
    "        val_acc_lst.append(valid_acc)\n",
    "        train_kl_lst.append(train_kl)\n",
    "        print('Epoch: {} \\tTraining Loss: {:.4f} \\tTraining Accuracy: {:.4f} \\tValidation Loss: {:.4f} \\tValidation Accuracy: {:.4f} \\ttrain_kl_div: {:.4f}'.format(\n",
    "            epoch, train_loss, train_acc, valid_loss, valid_acc, train_kl))\n",
    "\n",
    "        if valid_loss <= valid_loss_max:\n",
    "            print('Validation loss decreased ({:.6f} --> {:.6f}).  Saving model ...'.format(\n",
    "                valid_loss_max, valid_loss))\n",
    "            torch.save(net.state_dict(), ckpt_name)\n",
    "            valid_loss_max = valid_loss\n"
   ]
  },
  {
   "cell_type": "code",
   "execution_count": 68,
   "metadata": {
    "colab": {
     "base_uri": "https://localhost:8080/",
     "height": 185
    },
    "colab_type": "code",
    "id": "cOT8QWOhJAcI",
    "outputId": "8d4cb263-c5fc-464d-cd54-6d6131ca469f",
    "scrolled": true
   },
   "outputs": [
    {
     "name": "stdout",
     "output_type": "stream",
     "text": [
      "Epoch: 0 \tTraining Loss: 15345.3925 \tTraining Accuracy: 0.5327 \tValidation Loss: 14198.0967 \tValidation Accuracy: 0.5000 \ttrain_kl_div: 150427.6555\n",
      "Validation loss decreased (inf --> 14198.096712).  Saving model ...\n",
      "Epoch: 1 \tTraining Loss: 13498.7943 \tTraining Accuracy: 0.5280 \tValidation Loss: 12896.0534 \tValidation Accuracy: 0.5417 \ttrain_kl_div: 131962.5396\n",
      "Validation loss decreased (14198.096712 --> 12896.053418).  Saving model ...\n",
      "Epoch: 2 \tTraining Loss: 12448.9391 \tTraining Accuracy: 0.5164 \tValidation Loss: 12040.2351 \tValidation Accuracy: 0.5083 \ttrain_kl_div: 121534.3645\n",
      "Validation loss decreased (12896.053418 --> 12040.235124).  Saving model ...\n",
      "Epoch: 3 \tTraining Loss: 11646.6733 \tTraining Accuracy: 0.5794 \tValidation Loss: 11301.6964 \tValidation Accuracy: 0.4583 \ttrain_kl_div: 113624.3601\n",
      "Validation loss decreased (12040.235124 --> 11301.696354).  Saving model ...\n",
      "Epoch: 4 \tTraining Loss: 10947.9832 \tTraining Accuracy: 0.5304 \tValidation Loss: 10632.0685 \tValidation Accuracy: 0.5000 \ttrain_kl_div: 106569.0563\n",
      "Validation loss decreased (11301.696354 --> 10632.068490).  Saving model ...\n",
      "Epoch: 5 \tTraining Loss: 10281.1760 \tTraining Accuracy: 0.5631 \tValidation Loss: 9996.6790 \tValidation Accuracy: 0.5000 \ttrain_kl_div: 99888.3954\n",
      "Validation loss decreased (10632.068490 --> 9996.679004).  Saving model ...\n",
      "Epoch: 6 \tTraining Loss: 9628.4720 \tTraining Accuracy: 0.5421 \tValidation Loss: 9315.3784 \tValidation Accuracy: 0.4500 \ttrain_kl_div: 93372.6765\n",
      "Validation loss decreased (9996.679004 --> 9315.378418).  Saving model ...\n",
      "Epoch: 7 \tTraining Loss: 8979.1117 \tTraining Accuracy: 0.5864 \tValidation Loss: 8690.7205 \tValidation Accuracy: 0.5167 \ttrain_kl_div: 86962.9666\n",
      "Validation loss decreased (9315.378418 --> 8690.720508).  Saving model ...\n",
      "Epoch: 8 \tTraining Loss: 8353.6729 \tTraining Accuracy: 0.5607 \tValidation Loss: 8069.0344 \tValidation Accuracy: 0.5000 \ttrain_kl_div: 80673.8586\n",
      "Validation loss decreased (8690.720508 --> 8069.034408).  Saving model ...\n",
      "Epoch: 9 \tTraining Loss: 7734.9726 \tTraining Accuracy: 0.5654 \tValidation Loss: 7463.4465 \tValidation Accuracy: 0.5167 \ttrain_kl_div: 74455.7775\n",
      "Validation loss decreased (8069.034408 --> 7463.446533).  Saving model ...\n",
      "Epoch: 10 \tTraining Loss: 7130.3951 \tTraining Accuracy: 0.5491 \tValidation Loss: 6830.1473 \tValidation Accuracy: 0.5000 \ttrain_kl_div: 68363.9500\n",
      "Validation loss decreased (7463.446533 --> 6830.147331).  Saving model ...\n",
      "Epoch: 11 \tTraining Loss: 6528.8069 \tTraining Accuracy: 0.5397 \tValidation Loss: 6262.9654 \tValidation Accuracy: 0.5000 \ttrain_kl_div: 62360.6959\n",
      "Validation loss decreased (6830.147331 --> 6262.965446).  Saving model ...\n",
      "Epoch: 12 \tTraining Loss: 5940.0430 \tTraining Accuracy: 0.5350 \tValidation Loss: 5655.9699 \tValidation Accuracy: 0.4833 \ttrain_kl_div: 56457.7737\n",
      "Validation loss decreased (6262.965446 --> 5655.969873).  Saving model ...\n",
      "Epoch: 13 \tTraining Loss: 5360.0955 \tTraining Accuracy: 0.5584 \tValidation Loss: 5129.9843 \tValidation Accuracy: 0.5000 \ttrain_kl_div: 50729.9950\n",
      "Validation loss decreased (5655.969873 --> 5129.984326).  Saving model ...\n",
      "Epoch: 14 \tTraining Loss: 4805.0384 \tTraining Accuracy: 0.5607 \tValidation Loss: 4540.5931 \tValidation Accuracy: 0.4917 \ttrain_kl_div: 45160.5586\n",
      "Validation loss decreased (5129.984326 --> 4540.593132).  Saving model ...\n",
      "Epoch: 15 \tTraining Loss: 4269.3206 \tTraining Accuracy: 0.5607 \tValidation Loss: 4014.5548 \tValidation Accuracy: 0.5250 \ttrain_kl_div: 39793.6837\n",
      "Validation loss decreased (4540.593132 --> 4014.554785).  Saving model ...\n",
      "Epoch: 16 \tTraining Loss: 3757.0123 \tTraining Accuracy: 0.5631 \tValidation Loss: 3527.3480 \tValidation Accuracy: 0.4500 \ttrain_kl_div: 34672.2010\n",
      "Validation loss decreased (4014.554785 --> 3527.347974).  Saving model ...\n",
      "Epoch: 17 \tTraining Loss: 3266.7286 \tTraining Accuracy: 0.5421 \tValidation Loss: 3049.5164 \tValidation Accuracy: 0.5083 \ttrain_kl_div: 29792.2633\n",
      "Validation loss decreased (3527.347974 --> 3049.516390).  Saving model ...\n",
      "Epoch: 18 \tTraining Loss: 2814.7013 \tTraining Accuracy: 0.5607 \tValidation Loss: 2610.6375 \tValidation Accuracy: 0.4083 \ttrain_kl_div: 25239.1273\n",
      "Validation loss decreased (3049.516390 --> 2610.637533).  Saving model ...\n",
      "Epoch: 19 \tTraining Loss: 2389.3267 \tTraining Accuracy: 0.5514 \tValidation Loss: 2211.5137 \tValidation Accuracy: 0.4333 \ttrain_kl_div: 21002.4528\n",
      "Validation loss decreased (2610.637533 --> 2211.513672).  Saving model ...\n",
      "Epoch: 20 \tTraining Loss: 2008.7056 \tTraining Accuracy: 0.5631 \tValidation Loss: 1848.5442 \tValidation Accuracy: 0.5083 \ttrain_kl_div: 17179.5652\n",
      "Validation loss decreased (2211.513672 --> 1848.544173).  Saving model ...\n",
      "Epoch: 21 \tTraining Loss: 1661.9063 \tTraining Accuracy: 0.6051 \tValidation Loss: 1520.9774 \tValidation Accuracy: 0.4750 \ttrain_kl_div: 13754.0675\n",
      "Validation loss decreased (1848.544173 --> 1520.977380).  Saving model ...\n",
      "Epoch: 22 \tTraining Loss: 1369.3528 \tTraining Accuracy: 0.5280 \tValidation Loss: 1248.1022 \tValidation Accuracy: 0.5250 \ttrain_kl_div: 10764.4976\n",
      "Validation loss decreased (1520.977380 --> 1248.102218).  Saving model ...\n",
      "Epoch: 23 \tTraining Loss: 1113.6639 \tTraining Accuracy: 0.5491 \tValidation Loss: 1006.5544 \tValidation Accuracy: 0.5583 \ttrain_kl_div: 8214.6071\n",
      "Validation loss decreased (1248.102218 --> 1006.554441).  Saving model ...\n",
      "Epoch: 24 \tTraining Loss: 901.6534 \tTraining Accuracy: 0.5771 \tValidation Loss: 821.6206 \tValidation Accuracy: 0.5000 \ttrain_kl_div: 6109.8766\n",
      "Validation loss decreased (1006.554441 --> 821.620632).  Saving model ...\n",
      "Epoch: 25 \tTraining Loss: 733.4964 \tTraining Accuracy: 0.5327 \tValidation Loss: 683.8723 \tValidation Accuracy: 0.4917 \ttrain_kl_div: 4422.4546\n",
      "Validation loss decreased (821.620632 --> 683.872281).  Saving model ...\n",
      "Epoch: 26 \tTraining Loss: 608.5031 \tTraining Accuracy: 0.5491 \tValidation Loss: 563.0804 \tValidation Accuracy: 0.5083 \ttrain_kl_div: 3131.6663\n",
      "Validation loss decreased (683.872281 --> 563.080356).  Saving model ...\n",
      "Epoch: 27 \tTraining Loss: 507.6254 \tTraining Accuracy: 0.5678 \tValidation Loss: 489.1184 \tValidation Accuracy: 0.4667 \ttrain_kl_div: 2167.8829\n",
      "Validation loss decreased (563.080356 --> 489.118357).  Saving model ...\n",
      "Epoch: 28 \tTraining Loss: 444.6947 \tTraining Accuracy: 0.5491 \tValidation Loss: 428.8936 \tValidation Accuracy: 0.4667 \ttrain_kl_div: 1494.1331\n",
      "Validation loss decreased (489.118357 --> 428.893574).  Saving model ...\n",
      "Epoch: 29 \tTraining Loss: 399.9040 \tTraining Accuracy: 0.5397 \tValidation Loss: 386.7157 \tValidation Accuracy: 0.4750 \ttrain_kl_div: 1022.5855\n",
      "Validation loss decreased (428.893574 --> 386.715711).  Saving model ...\n",
      "Epoch: 30 \tTraining Loss: 369.7962 \tTraining Accuracy: 0.5257 \tValidation Loss: 369.1274 \tValidation Accuracy: 0.4333 \ttrain_kl_div: 724.8225\n",
      "Validation loss decreased (386.715711 --> 369.127385).  Saving model ...\n",
      "Epoch: 31 \tTraining Loss: 348.3243 \tTraining Accuracy: 0.5607 \tValidation Loss: 350.9790 \tValidation Accuracy: 0.5333 \ttrain_kl_div: 541.4843\n",
      "Validation loss decreased (369.127385 --> 350.978957).  Saving model ...\n",
      "Epoch: 32 \tTraining Loss: 335.2798 \tTraining Accuracy: 0.5280 \tValidation Loss: 357.6120 \tValidation Accuracy: 0.5167 \ttrain_kl_div: 439.7881\n",
      "Epoch: 33 \tTraining Loss: 331.1342 \tTraining Accuracy: 0.5631 \tValidation Loss: 356.6256 \tValidation Accuracy: 0.4833 \ttrain_kl_div: 374.5204\n",
      "Epoch: 34 \tTraining Loss: 330.3598 \tTraining Accuracy: 0.5421 \tValidation Loss: 344.1963 \tValidation Accuracy: 0.4500 \ttrain_kl_div: 325.0652\n",
      "Validation loss decreased (350.978957 --> 344.196292).  Saving model ...\n",
      "Epoch: 35 \tTraining Loss: 328.0493 \tTraining Accuracy: 0.5327 \tValidation Loss: 352.3725 \tValidation Accuracy: 0.5167 \ttrain_kl_div: 322.2028\n",
      "Epoch: 36 \tTraining Loss: 330.0553 \tTraining Accuracy: 0.5421 \tValidation Loss: 335.2484 \tValidation Accuracy: 0.4583 \ttrain_kl_div: 309.3101\n",
      "Validation loss decreased (344.196292 --> 335.248440).  Saving model ...\n",
      "Epoch: 37 \tTraining Loss: 328.8631 \tTraining Accuracy: 0.5187 \tValidation Loss: 342.9602 \tValidation Accuracy: 0.4750 \ttrain_kl_div: 321.8858\n",
      "Epoch: 38 \tTraining Loss: 323.1819 \tTraining Accuracy: 0.5397 \tValidation Loss: 335.7778 \tValidation Accuracy: 0.5417 \ttrain_kl_div: 285.3215\n"
     ]
    },
    {
     "name": "stdout",
     "output_type": "stream",
     "text": [
      "Epoch: 39 \tTraining Loss: 319.4312 \tTraining Accuracy: 0.5748 \tValidation Loss: 351.0029 \tValidation Accuracy: 0.4583 \ttrain_kl_div: 299.4438\n",
      "Epoch: 40 \tTraining Loss: 322.8079 \tTraining Accuracy: 0.5537 \tValidation Loss: 332.9292 \tValidation Accuracy: 0.5583 \ttrain_kl_div: 287.6276\n",
      "Validation loss decreased (335.248440 --> 332.929205).  Saving model ...\n",
      "Epoch: 41 \tTraining Loss: 327.6411 \tTraining Accuracy: 0.5514 \tValidation Loss: 326.5349 \tValidation Accuracy: 0.5167 \ttrain_kl_div: 297.5364\n",
      "Validation loss decreased (332.929205 --> 326.534901).  Saving model ...\n",
      "Epoch: 42 \tTraining Loss: 327.5964 \tTraining Accuracy: 0.5023 \tValidation Loss: 339.3251 \tValidation Accuracy: 0.5000 \ttrain_kl_div: 279.7583\n",
      "Epoch: 43 \tTraining Loss: 321.8038 \tTraining Accuracy: 0.5327 \tValidation Loss: 337.9241 \tValidation Accuracy: 0.4917 \ttrain_kl_div: 270.6319\n",
      "Epoch: 44 \tTraining Loss: 327.8172 \tTraining Accuracy: 0.5514 \tValidation Loss: 330.0533 \tValidation Accuracy: 0.5083 \ttrain_kl_div: 283.7993\n",
      "Epoch: 45 \tTraining Loss: 321.2740 \tTraining Accuracy: 0.5280 \tValidation Loss: 335.0091 \tValidation Accuracy: 0.5417 \ttrain_kl_div: 273.8152\n",
      "Epoch: 46 \tTraining Loss: 315.5895 \tTraining Accuracy: 0.5771 \tValidation Loss: 329.6729 \tValidation Accuracy: 0.4917 \ttrain_kl_div: 282.4994\n",
      "Epoch: 47 \tTraining Loss: 335.8929 \tTraining Accuracy: 0.5047 \tValidation Loss: 335.0061 \tValidation Accuracy: 0.5333 \ttrain_kl_div: 275.1578\n",
      "Epoch    48: reducing learning rate of group 0 to 1.0000e-04.\n",
      "Epoch: 48 \tTraining Loss: 324.4181 \tTraining Accuracy: 0.5210 \tValidation Loss: 327.3514 \tValidation Accuracy: 0.4917 \ttrain_kl_div: 264.2211\n",
      "Epoch: 49 \tTraining Loss: 317.1491 \tTraining Accuracy: 0.5304 \tValidation Loss: 322.8619 \tValidation Accuracy: 0.4917 \ttrain_kl_div: 252.6975\n",
      "Validation loss decreased (326.534901 --> 322.861868).  Saving model ...\n",
      "Epoch: 50 \tTraining Loss: 318.6157 \tTraining Accuracy: 0.5561 \tValidation Loss: 338.0430 \tValidation Accuracy: 0.4250 \ttrain_kl_div: 246.1632\n",
      "Epoch: 51 \tTraining Loss: 319.5175 \tTraining Accuracy: 0.5374 \tValidation Loss: 322.9624 \tValidation Accuracy: 0.5250 \ttrain_kl_div: 240.2562\n",
      "Epoch: 52 \tTraining Loss: 314.1708 \tTraining Accuracy: 0.5561 \tValidation Loss: 320.1295 \tValidation Accuracy: 0.4583 \ttrain_kl_div: 234.1877\n",
      "Validation loss decreased (322.861868 --> 320.129514).  Saving model ...\n",
      "Epoch: 53 \tTraining Loss: 319.6523 \tTraining Accuracy: 0.5350 \tValidation Loss: 327.9954 \tValidation Accuracy: 0.4917 \ttrain_kl_div: 233.3290\n",
      "Epoch: 54 \tTraining Loss: 316.4295 \tTraining Accuracy: 0.5678 \tValidation Loss: 337.8515 \tValidation Accuracy: 0.4250 \ttrain_kl_div: 228.8671\n",
      "Epoch: 55 \tTraining Loss: 312.4060 \tTraining Accuracy: 0.5818 \tValidation Loss: 326.2520 \tValidation Accuracy: 0.5083 \ttrain_kl_div: 228.7795\n",
      "Epoch: 56 \tTraining Loss: 316.7530 \tTraining Accuracy: 0.5164 \tValidation Loss: 333.6794 \tValidation Accuracy: 0.4917 \ttrain_kl_div: 225.7132\n",
      "Epoch: 57 \tTraining Loss: 313.6216 \tTraining Accuracy: 0.5491 \tValidation Loss: 338.3066 \tValidation Accuracy: 0.4583 \ttrain_kl_div: 227.1781\n",
      "Epoch: 58 \tTraining Loss: 315.0376 \tTraining Accuracy: 0.5444 \tValidation Loss: 326.8960 \tValidation Accuracy: 0.5417 \ttrain_kl_div: 221.6441\n",
      "Epoch    59: reducing learning rate of group 0 to 1.0000e-05.\n",
      "Epoch: 59 \tTraining Loss: 312.1288 \tTraining Accuracy: 0.5701 \tValidation Loss: 326.3674 \tValidation Accuracy: 0.5167 \ttrain_kl_div: 220.1465\n",
      "Epoch: 60 \tTraining Loss: 311.3594 \tTraining Accuracy: 0.5397 \tValidation Loss: 343.9268 \tValidation Accuracy: 0.4750 \ttrain_kl_div: 220.7254\n",
      "Epoch: 61 \tTraining Loss: 316.8447 \tTraining Accuracy: 0.5280 \tValidation Loss: 324.9367 \tValidation Accuracy: 0.4833 \ttrain_kl_div: 220.8468\n",
      "Epoch: 62 \tTraining Loss: 317.1078 \tTraining Accuracy: 0.5607 \tValidation Loss: 327.6360 \tValidation Accuracy: 0.5500 \ttrain_kl_div: 221.2000\n",
      "Epoch: 63 \tTraining Loss: 313.4369 \tTraining Accuracy: 0.5350 \tValidation Loss: 331.5446 \tValidation Accuracy: 0.5417 \ttrain_kl_div: 220.9726\n",
      "Epoch: 64 \tTraining Loss: 314.3569 \tTraining Accuracy: 0.5350 \tValidation Loss: 323.0229 \tValidation Accuracy: 0.4667 \ttrain_kl_div: 220.4588\n",
      "Epoch: 65 \tTraining Loss: 324.4822 \tTraining Accuracy: 0.5187 \tValidation Loss: 323.0343 \tValidation Accuracy: 0.5083 \ttrain_kl_div: 220.5568\n",
      "Epoch    66: reducing learning rate of group 0 to 1.0000e-06.\n",
      "Epoch: 66 \tTraining Loss: 316.3269 \tTraining Accuracy: 0.5374 \tValidation Loss: 348.4867 \tValidation Accuracy: 0.4333 \ttrain_kl_div: 221.1920\n",
      "Epoch: 67 \tTraining Loss: 319.3576 \tTraining Accuracy: 0.5350 \tValidation Loss: 327.9724 \tValidation Accuracy: 0.5417 \ttrain_kl_div: 221.1456\n",
      "Epoch: 68 \tTraining Loss: 311.5226 \tTraining Accuracy: 0.5701 \tValidation Loss: 337.2599 \tValidation Accuracy: 0.4083 \ttrain_kl_div: 221.1912\n",
      "Epoch: 69 \tTraining Loss: 320.5857 \tTraining Accuracy: 0.5117 \tValidation Loss: 331.8690 \tValidation Accuracy: 0.5000 \ttrain_kl_div: 221.1520\n",
      "Epoch: 70 \tTraining Loss: 315.7223 \tTraining Accuracy: 0.5327 \tValidation Loss: 329.8398 \tValidation Accuracy: 0.5000 \ttrain_kl_div: 221.2320\n",
      "Epoch: 71 \tTraining Loss: 310.7001 \tTraining Accuracy: 0.5935 \tValidation Loss: 334.8762 \tValidation Accuracy: 0.4500 \ttrain_kl_div: 221.1965\n",
      "Epoch: 72 \tTraining Loss: 316.3464 \tTraining Accuracy: 0.5421 \tValidation Loss: 319.1413 \tValidation Accuracy: 0.5333 \ttrain_kl_div: 221.1454\n",
      "Validation loss decreased (320.129514 --> 319.141265).  Saving model ...\n",
      "Epoch: 73 \tTraining Loss: 317.7310 \tTraining Accuracy: 0.5257 \tValidation Loss: 327.6044 \tValidation Accuracy: 0.4917 \ttrain_kl_div: 221.2128\n",
      "Epoch: 74 \tTraining Loss: 323.4705 \tTraining Accuracy: 0.5257 \tValidation Loss: 333.5973 \tValidation Accuracy: 0.5250 \ttrain_kl_div: 221.2524\n",
      "Epoch: 75 \tTraining Loss: 315.4237 \tTraining Accuracy: 0.5724 \tValidation Loss: 321.8336 \tValidation Accuracy: 0.5417 \ttrain_kl_div: 221.2945\n",
      "Epoch: 76 \tTraining Loss: 324.8314 \tTraining Accuracy: 0.4977 \tValidation Loss: 337.2474 \tValidation Accuracy: 0.5083 \ttrain_kl_div: 221.3400\n",
      "Epoch: 77 \tTraining Loss: 312.1793 \tTraining Accuracy: 0.5654 \tValidation Loss: 326.1534 \tValidation Accuracy: 0.4667 \ttrain_kl_div: 221.4303\n",
      "Epoch: 78 \tTraining Loss: 321.9947 \tTraining Accuracy: 0.5327 \tValidation Loss: 335.0380 \tValidation Accuracy: 0.4667 \ttrain_kl_div: 221.4177\n",
      "Epoch    79: reducing learning rate of group 0 to 1.0000e-07.\n",
      "Epoch: 79 \tTraining Loss: 310.5549 \tTraining Accuracy: 0.5397 \tValidation Loss: 333.2387 \tValidation Accuracy: 0.4750 \ttrain_kl_div: 221.4062\n",
      "Epoch: 80 \tTraining Loss: 306.6072 \tTraining Accuracy: 0.5818 \tValidation Loss: 328.4884 \tValidation Accuracy: 0.5250 \ttrain_kl_div: 221.3783\n",
      "Epoch: 81 \tTraining Loss: 315.0817 \tTraining Accuracy: 0.5374 \tValidation Loss: 330.2783 \tValidation Accuracy: 0.5000 \ttrain_kl_div: 221.3703\n",
      "Epoch: 82 \tTraining Loss: 311.1139 \tTraining Accuracy: 0.5607 \tValidation Loss: 319.8822 \tValidation Accuracy: 0.4917 \ttrain_kl_div: 221.3684\n",
      "Epoch: 83 \tTraining Loss: 316.4831 \tTraining Accuracy: 0.5210 \tValidation Loss: 336.2534 \tValidation Accuracy: 0.4667 \ttrain_kl_div: 221.3657\n",
      "Epoch: 84 \tTraining Loss: 325.7034 \tTraining Accuracy: 0.4930 \tValidation Loss: 328.3385 \tValidation Accuracy: 0.5167 \ttrain_kl_div: 221.3723\n",
      "Epoch: 85 \tTraining Loss: 319.7226 \tTraining Accuracy: 0.5164 \tValidation Loss: 334.4734 \tValidation Accuracy: 0.4750 \ttrain_kl_div: 221.3804\n",
      "Epoch    86: reducing learning rate of group 0 to 1.0000e-08.\n",
      "Epoch: 86 \tTraining Loss: 322.2271 \tTraining Accuracy: 0.5280 \tValidation Loss: 330.4570 \tValidation Accuracy: 0.4917 \ttrain_kl_div: 221.3879\n",
      "Epoch: 87 \tTraining Loss: 310.4222 \tTraining Accuracy: 0.5607 \tValidation Loss: 327.7497 \tValidation Accuracy: 0.4583 \ttrain_kl_div: 221.3906\n",
      "Epoch: 88 \tTraining Loss: 317.2795 \tTraining Accuracy: 0.5654 \tValidation Loss: 334.1564 \tValidation Accuracy: 0.4917 \ttrain_kl_div: 221.3903\n",
      "Epoch: 89 \tTraining Loss: 314.6380 \tTraining Accuracy: 0.5467 \tValidation Loss: 335.4292 \tValidation Accuracy: 0.5250 \ttrain_kl_div: 221.3908\n",
      "Epoch: 90 \tTraining Loss: 317.7917 \tTraining Accuracy: 0.5234 \tValidation Loss: 325.1516 \tValidation Accuracy: 0.5750 \ttrain_kl_div: 221.3908\n"
     ]
    },
    {
     "name": "stdout",
     "output_type": "stream",
     "text": [
      "Epoch: 91 \tTraining Loss: 315.4297 \tTraining Accuracy: 0.5514 \tValidation Loss: 309.1467 \tValidation Accuracy: 0.6083 \ttrain_kl_div: 221.3911\n",
      "Validation loss decreased (319.141265 --> 309.146666).  Saving model ...\n",
      "Epoch: 92 \tTraining Loss: 313.2421 \tTraining Accuracy: 0.5350 \tValidation Loss: 330.8279 \tValidation Accuracy: 0.4917 \ttrain_kl_div: 221.3907\n",
      "Epoch: 93 \tTraining Loss: 319.2501 \tTraining Accuracy: 0.5187 \tValidation Loss: 324.2057 \tValidation Accuracy: 0.4833 \ttrain_kl_div: 221.3907\n",
      "Epoch: 94 \tTraining Loss: 315.8321 \tTraining Accuracy: 0.5537 \tValidation Loss: 339.5403 \tValidation Accuracy: 0.4583 \ttrain_kl_div: 221.3909\n",
      "Epoch: 95 \tTraining Loss: 311.1741 \tTraining Accuracy: 0.5584 \tValidation Loss: 329.3617 \tValidation Accuracy: 0.4750 \ttrain_kl_div: 221.3902\n",
      "Epoch: 96 \tTraining Loss: 322.0825 \tTraining Accuracy: 0.5164 \tValidation Loss: 312.1948 \tValidation Accuracy: 0.6250 \ttrain_kl_div: 221.3899\n",
      "Epoch: 97 \tTraining Loss: 317.7327 \tTraining Accuracy: 0.5304 \tValidation Loss: 330.3399 \tValidation Accuracy: 0.5583 \ttrain_kl_div: 221.3908\n",
      "Epoch: 98 \tTraining Loss: 314.8245 \tTraining Accuracy: 0.5444 \tValidation Loss: 309.8118 \tValidation Accuracy: 0.6000 \ttrain_kl_div: 221.3907\n",
      "Epoch: 99 \tTraining Loss: 315.4647 \tTraining Accuracy: 0.5467 \tValidation Loss: 321.8614 \tValidation Accuracy: 0.4833 \ttrain_kl_div: 221.3906\n"
     ]
    }
   ],
   "source": [
    "runc(train_loader, val_loader,test_loader,'lenet',trainset)"
   ]
  },
  {
   "cell_type": "markdown",
   "metadata": {},
   "source": [
    "### Plot the Loss Curves"
   ]
  },
  {
   "cell_type": "code",
   "execution_count": 69,
   "metadata": {},
   "outputs": [
    {
     "data": {
      "text/plain": [
       "Text(0.5, 1.0, 'Loss Curves')"
      ]
     },
     "execution_count": 69,
     "metadata": {},
     "output_type": "execute_result"
    },
    {
     "data": {
      "image/png": "[encoded data removed]",
      "text/plain": [
       "<Figure size 576x432 with 1 Axes>"
      ]
     },
     "metadata": {
      "needs_background": "light"
     },
     "output_type": "display_data"
    }
   ],
   "source": [
    "plt.figure(figsize=[8,6])\n",
    "plt.plot(train_loss_lst,'r',linewidth=3.0)\n",
    "plt.plot(val_loss_lst,'b',linewidth=3.0)\n",
    "plt.legend(['Training loss', 'Validation Loss'],fontsize=18)\n",
    "plt.xlabel('Epochs ',fontsize=16)\n",
    "plt.ylabel('Loss',fontsize=16)\n",
    "plt.title('Loss Curves',fontsize=16)"
   ]
  },
  {
   "cell_type": "markdown",
   "metadata": {},
   "source": [
    "### Plot the Accuracy Curves"
   ]
  },
  {
   "cell_type": "code",
   "execution_count": 19,
   "metadata": {},
   "outputs": [
    {
     "data": {
      "text/plain": [
       "Text(0.5, 1.0, 'Accuracy Curves')"
      ]
     },
     "execution_count": 19,
     "metadata": {},
     "output_type": "execute_result"
    },
    {
     "data": {
      "image/png": "[encoded data removed]",
      "text/plain": [
       "<Figure size 576x432 with 1 Axes>"
      ]
     },
     "metadata": {
      "needs_background": "light"
     },
     "output_type": "display_data"
    }
   ],
   "source": [
    "plt.figure(figsize=[8,6])\n",
    "plt.plot(train_acc_lst,'r',linewidth=3.0)\n",
    "plt.plot(val_acc_lst,'b',linewidth=3.0)\n",
    "plt.legend(['Training Accuracy', 'Validation Accuracy'],fontsize=18)\n",
    "plt.xlabel('Epochs ',fontsize=16)\n",
    "plt.ylabel('Accuracy',fontsize=16)\n",
    "plt.title('Accuracy Curves',fontsize=16)"
   ]
  },
  {
   "cell_type": "markdown",
   "metadata": {},
   "source": [
    "### KL Divergence"
   ]
  },
  {
   "cell_type": "code",
   "execution_count": 20,
   "metadata": {},
   "outputs": [
    {
     "data": {
      "text/plain": [
       "Text(0.5, 1.0, 'KL - Divergence curves')"
      ]
     },
     "execution_count": 20,
     "metadata": {},
     "output_type": "execute_result"
    },
    {
     "data": {
      "image/png": "[encoded data removed]",
      "text/plain": [
       "<Figure size 576x432 with 1 Axes>"
      ]
     },
     "metadata": {
      "needs_background": "light"
     },
     "output_type": "display_data"
    }
   ],
   "source": [
    "plt.figure(figsize=[8,6])\n",
    "plt.plot(train_kl_lst,'b',linewidth=3.0)\n",
    "plt.legend(['KL- Divergence'],fontsize=18)\n",
    "plt.xlabel('Epochs ',fontsize=16)\n",
    "plt.ylabel('KL- Divergence',fontsize=16)\n",
    "plt.title('KL - Divergence curves',fontsize=16)"
   ]
  },
  {
   "cell_type": "markdown",
   "metadata": {},
   "source": [
    "### prediction"
   ]
  },
  {
   "cell_type": "code",
   "execution_count": 67,
   "metadata": {
    "colab": {},
    "colab_type": "code",
    "id": "XJCFMRJCu386"
   },
   "outputs": [
    {
     "name": "stdout",
     "output_type": "stream",
     "text": [
      "COVID 54.05341339111328 %\n"
     ]
    }
   ],
   "source": [
    "labels = ['COVID', 'NON_COVID']\n",
    "model_Bayesian = BBBLeNet(outputs,inputs,priors)\n",
    "checkpoint = torch.load(\"./checkpoints/model_lenet_lrt_softplus.pt\")\n",
    "model_Bayesian.load_state_dict(checkpoint)\n",
    "model_Bayesian.eval()\n",
    "if torch.cuda.is_available():\n",
    "    model_Bayesian.cuda()\n",
    "img = Image.open(\"./Images-processed/CT_COVID/2019-novel-Coronavirus-severe-adult-respiratory-dist_2020_International-Jour-p3-89%0.png\")\n",
    "img_t = train_transformer(img)\n",
    "batch_t = torch.unsqueeze(img_t,0).to(device)\n",
    "out = model_Bayesian(batch_t)\n",
    "_, index = torch.max(out[0], 1)\n",
    "percentage = torch.nn.functional.softmax(out[0], dim=1)[0] * 100\n",
    "print(labels[index[0]], percentage[index[0]].item() ,\"%\")"
   ]
  },
  {
   "cell_type": "markdown",
   "metadata": {},
   "source": [
    "### Evaluate the model"
   ]
  },
  {
   "cell_type": "code",
   "execution_count": 22,
   "metadata": {},
   "outputs": [],
   "source": [
    "pred_bayesian = []\n",
    "labels = ['COVID', 'NON_COVID']\n",
    "for i, batch_samples in enumerate(test_loader, 1):\n",
    "        inputs = batch_samples['img']\n",
    "        out = model_Bayesian(inputs.to(device))\n",
    "        _, index = torch.max(out[0], 1)\n",
    "        pred_bayesian.append(labels[index[0]])\n",
    "        \n",
    "for i in range(len(pred_bayesian)):\n",
    "        if pred_bayesian[i] == \"COVID\":\n",
    "            pred_bayesian[i] = 0\n",
    "        else:\n",
    "            pred_bayesian[i] = 1"
   ]
  },
  {
   "cell_type": "code",
   "execution_count": 23,
   "metadata": {},
   "outputs": [],
   "source": [
    "actual_lablels = []\n",
    "new_actual_labels=[]\n",
    "for i, batch_samples in enumerate(test_loader, 1):\n",
    "        inputs , labels = batch_samples['img'] , batch_samples['label']\n",
    "        actual_lablels.append(labels)\n",
    "for i in range (len(actual_lablels)):\n",
    "    if actual_lablels[i][0] == 1:\n",
    "        new_actual_labels.append(1)\n",
    "    else:\n",
    "        new_actual_labels.append(0)"
   ]
  },
  {
   "cell_type": "markdown",
   "metadata": {},
   "source": [
    "### Accuracy"
   ]
  },
  {
   "cell_type": "code",
   "execution_count": 24,
   "metadata": {},
   "outputs": [
    {
     "data": {
      "text/plain": [
       "0.5490196078431373"
      ]
     },
     "execution_count": 24,
     "metadata": {},
     "output_type": "execute_result"
    }
   ],
   "source": [
    "accuracy_score(new_actual_labels, pred_bayesian)"
   ]
  },
  {
   "cell_type": "markdown",
   "metadata": {},
   "source": [
    "###  F1 Score"
   ]
  },
  {
   "cell_type": "code",
   "execution_count": 25,
   "metadata": {},
   "outputs": [
    {
     "data": {
      "text/plain": [
       "0.6101694915254238"
      ]
     },
     "execution_count": 25,
     "metadata": {},
     "output_type": "execute_result"
    }
   ],
   "source": [
    "f1_score(new_actual_labels, pred_bayesian)"
   ]
  },
  {
   "cell_type": "markdown",
   "metadata": {},
   "source": [
    "### Confusion matirx"
   ]
  },
  {
   "cell_type": "code",
   "execution_count": 26,
   "metadata": {},
   "outputs": [
    {
     "data": {
      "text/plain": [
       "array([[10, 15],\n",
       "       [ 8, 18]], dtype=int64)"
      ]
     },
     "execution_count": 26,
     "metadata": {},
     "output_type": "execute_result"
    }
   ],
   "source": [
    "confusion_matrix(new_actual_labels, pred_bayesian)"
   ]
  },
  {
   "cell_type": "markdown",
   "metadata": {},
   "source": [
    "# Neural Networks approach"
   ]
  },
  {
   "cell_type": "code",
   "execution_count": 27,
   "metadata": {},
   "outputs": [],
   "source": [
    "inputs = 1\n",
    "outputs = 2"
   ]
  },
  {
   "cell_type": "markdown",
   "metadata": {},
   "source": [
    "### Model - Lenet"
   ]
  },
  {
   "cell_type": "code",
   "execution_count": 28,
   "metadata": {},
   "outputs": [],
   "source": [
    "#import torch.nn as nn\n",
    "#import torch.nn.functional as F\n",
    "#import numpy as np\n",
    "\n",
    "def conv_init(m):\n",
    "    classname = m.__class__.__name__\n",
    "    if classname.find('Conv') != -1:\n",
    "        nn.init.normal_(m.weight, mean=0, std=1)\n",
    "        nn.init.constant(m.bias, 0)\n",
    "\n",
    "class LeNet(nn.Module):\n",
    "    def __init__(self, num_classes, inputs=3):\n",
    "        super(LeNet, self).__init__()\n",
    "        self.conv1 = nn.Conv2d(inputs, 6, 5)\n",
    "        self.conv2 = nn.Conv2d(6, 16, 5)\n",
    "        self.fc1   = nn.Linear(16*5*5, 120)\n",
    "        self.fc2   = nn.Linear(120, 84)\n",
    "        self.fc3   = nn.Linear(84, num_classes)\n",
    "\n",
    "    def forward(self, x):\n",
    "        out = F.relu(self.conv1(x))\n",
    "        out = F.max_pool2d(out, 2)\n",
    "        out = F.relu(self.conv2(out))\n",
    "        out = F.max_pool2d(out, 2)\n",
    "        out = out.view(out.size(0), -1)\n",
    "        out = F.relu(self.fc1(out))\n",
    "        out = F.relu(self.fc2(out))\n",
    "        out = self.fc3(out)\n",
    "\n",
    "        return(out)"
   ]
  },
  {
   "cell_type": "markdown",
   "metadata": {},
   "source": [
    "## Main code block"
   ]
  },
  {
   "cell_type": "code",
   "execution_count": 29,
   "metadata": {},
   "outputs": [],
   "source": [
    "device = torch.device(\"cuda:0\" if torch.cuda.is_available() else \"cpu\")"
   ]
  },
  {
   "cell_type": "markdown",
   "metadata": {},
   "source": [
    "### Get Model"
   ]
  },
  {
   "cell_type": "code",
   "execution_count": 30,
   "metadata": {},
   "outputs": [],
   "source": [
    "def getModelNN(net_type, inputs, outputs):\n",
    "    if (net_type == 'lenet'):\n",
    "        return LeNet(outputs, inputs)\n",
    "    else:\n",
    "        raise ValueError('Network should be either [LeNet')"
   ]
  },
  {
   "cell_type": "markdown",
   "metadata": {},
   "source": [
    "### Train Model"
   ]
  },
  {
   "cell_type": "code",
   "execution_count": 31,
   "metadata": {},
   "outputs": [],
   "source": [
    "def train_model(net, optimizer, criterion, train_loader):\n",
    "    train_loss = 0.0\n",
    "    net.train()\n",
    "    accs = []\n",
    "    for i, batch_samples in enumerate(train_loader, 1):\n",
    "        inputs , labels = batch_samples['img'] , batch_samples['label']\n",
    "        #optimizer.zero_grad()\n",
    "        \n",
    "    #for data, target in train_loader:\n",
    "        #data, target = data.to(device), target.to(device)\n",
    "        data, target = inputs.to(device), labels.to(device)\n",
    "        optimizer.zero_grad()\n",
    "        output = net(data)\n",
    "        loss = criterion(output, target) #cross entropy loss\n",
    "        loss.backward()\n",
    "        optimizer.step()\n",
    "        train_loss += loss.item()*data.size(0)\n",
    "        accs.append(acc(output.detach(), target))\n",
    "    return train_loss, np.mean(accs)\n"
   ]
  },
  {
   "cell_type": "markdown",
   "metadata": {},
   "source": [
    "### Validate Model"
   ]
  },
  {
   "cell_type": "code",
   "execution_count": 32,
   "metadata": {},
   "outputs": [],
   "source": [
    "def validate_model(net, criterion, valid_loader):\n",
    "    valid_loss = 0.0\n",
    "    net.eval()\n",
    "    accs = []\n",
    "    for i, batch_samples in enumerate(valid_loader, 1):\n",
    "        inputs , labels = batch_samples['img'] , batch_samples['label']\n",
    "        data, target = inputs.to(device), labels.to(device)\n",
    "        output = net(data)\n",
    "        loss = criterion(output, target)\n",
    "        valid_loss += loss.item()*data.size(0)\n",
    "        accs.append(acc(output.detach(), target))\n",
    "    return valid_loss, np.mean(accs)"
   ]
  },
  {
   "cell_type": "markdown",
   "metadata": {},
   "source": [
    "### Run"
   ]
  },
  {
   "cell_type": "code",
   "execution_count": 33,
   "metadata": {},
   "outputs": [],
   "source": [
    "train_loss_lst = []\n",
    "val_loss_lst = []\n",
    "train_acc_lst = []\n",
    "val_acc_lst = []\n",
    "\n",
    "def runNN(train_loader, valid_loader,test_loader,net_type,trainset):\n",
    "\n",
    "    # Hyper Parameter settings\n",
    "    n_epochs = 100\n",
    "    lr = 0.001\n",
    "    num_workers = 4\n",
    "    valid_size = 0.2\n",
    "    batch_size = 4\n",
    "\n",
    "    net = getModelNN(net_type, inputs, outputs).to(device)\n",
    "\n",
    "    ckpt_dir = f'checkpoints'\n",
    "    ckpt_name = f'checkpoints/model_{net_type}_neural_network.pt'\n",
    "\n",
    "    if not os.path.exists(ckpt_dir):\n",
    "        os.makedirs(ckpt_dir, exist_ok=True)\n",
    "\n",
    "    criterion = nn.CrossEntropyLoss() #use to calculate loss\n",
    "    optimizer = Adam(net.parameters(), lr=lr)\n",
    "    lr_sched = lr_scheduler.ReduceLROnPlateau(optimizer, patience=6, verbose=True)\n",
    "    valid_loss_min = np.Inf\n",
    "    for epoch in range(1, n_epochs+1):\n",
    "\n",
    "        train_loss, train_acc = train_model(net, optimizer, criterion, train_loader)\n",
    "        valid_loss, valid_acc = validate_model(net, criterion, valid_loader)\n",
    "        lr_sched.step(valid_loss)\n",
    "\n",
    "        train_loss = train_loss/len(train_loader.dataset)\n",
    "        valid_loss = valid_loss/len(valid_loader.dataset)\n",
    "        \n",
    "        train_loss_lst.append(train_loss)\n",
    "        val_loss_lst.append(valid_loss)\n",
    "        train_acc_lst.append(train_acc)\n",
    "        val_acc_lst.append(valid_acc) \n",
    "        \n",
    "        print('Epoch: {} \\tTraining Loss: {:.4f} \\tTraining Accuracy: {:.4f} \\tValidation Loss: {:.4f} \\tValidation Accuracy: {:.4f}'.format(\n",
    "            epoch, train_loss, train_acc, valid_loss, valid_acc))\n",
    "        \n",
    "        # save model if validation loss has decreased\n",
    "        if valid_loss <= valid_loss_min:\n",
    "            print('Validation loss decreased ({:.6f} --> {:.6f}).  Saving model ...'.format(\n",
    "                valid_loss_min, valid_loss))\n",
    "            torch.save(net.state_dict(), ckpt_name)\n",
    "            valid_loss_min = valid_loss\n"
   ]
  },
  {
   "cell_type": "code",
   "execution_count": 34,
   "metadata": {
    "scrolled": true
   },
   "outputs": [
    {
     "name": "stdout",
     "output_type": "stream",
     "text": [
      "Epoch: 1 \tTraining Loss: 0.6749 \tTraining Accuracy: 0.5771 \tValidation Loss: 0.7685 \tValidation Accuracy: 0.4750\n",
      "Validation loss decreased (inf --> 0.768467).  Saving model ...\n",
      "Epoch: 2 \tTraining Loss: 0.6758 \tTraining Accuracy: 0.5701 \tValidation Loss: 0.7231 \tValidation Accuracy: 0.5000\n",
      "Validation loss decreased (0.768467 --> 0.723101).  Saving model ...\n",
      "Epoch: 3 \tTraining Loss: 0.6703 \tTraining Accuracy: 0.5818 \tValidation Loss: 0.7131 \tValidation Accuracy: 0.5333\n",
      "Validation loss decreased (0.723101 --> 0.713119).  Saving model ...\n",
      "Epoch: 4 \tTraining Loss: 0.6791 \tTraining Accuracy: 0.5631 \tValidation Loss: 0.7041 \tValidation Accuracy: 0.5250\n",
      "Validation loss decreased (0.713119 --> 0.704070).  Saving model ...\n",
      "Epoch: 5 \tTraining Loss: 0.6647 \tTraining Accuracy: 0.5911 \tValidation Loss: 0.7205 \tValidation Accuracy: 0.4833\n",
      "Epoch: 6 \tTraining Loss: 0.6628 \tTraining Accuracy: 0.5818 \tValidation Loss: 0.7237 \tValidation Accuracy: 0.5000\n",
      "Epoch: 7 \tTraining Loss: 0.6547 \tTraining Accuracy: 0.6075 \tValidation Loss: 0.7606 \tValidation Accuracy: 0.5167\n",
      "Epoch: 8 \tTraining Loss: 0.6389 \tTraining Accuracy: 0.6308 \tValidation Loss: 0.7691 \tValidation Accuracy: 0.5667\n",
      "Epoch: 9 \tTraining Loss: 0.6369 \tTraining Accuracy: 0.6238 \tValidation Loss: 0.6711 \tValidation Accuracy: 0.5833\n",
      "Validation loss decreased (0.704070 --> 0.671132).  Saving model ...\n",
      "Epoch: 10 \tTraining Loss: 0.6087 \tTraining Accuracy: 0.6612 \tValidation Loss: 0.7145 \tValidation Accuracy: 0.5250\n",
      "Epoch: 11 \tTraining Loss: 0.6175 \tTraining Accuracy: 0.6752 \tValidation Loss: 0.7515 \tValidation Accuracy: 0.5667\n",
      "Epoch: 12 \tTraining Loss: 0.5968 \tTraining Accuracy: 0.6565 \tValidation Loss: 0.7355 \tValidation Accuracy: 0.6083\n",
      "Epoch: 13 \tTraining Loss: 0.6058 \tTraining Accuracy: 0.6589 \tValidation Loss: 0.7241 \tValidation Accuracy: 0.6167\n",
      "Epoch: 14 \tTraining Loss: 0.5778 \tTraining Accuracy: 0.6659 \tValidation Loss: 0.7696 \tValidation Accuracy: 0.5833\n",
      "Epoch: 15 \tTraining Loss: 0.5923 \tTraining Accuracy: 0.6519 \tValidation Loss: 0.7390 \tValidation Accuracy: 0.6167\n",
      "Epoch    15: reducing learning rate of group 0 to 1.0000e-04.\n",
      "Epoch: 16 \tTraining Loss: 0.5898 \tTraining Accuracy: 0.6495 \tValidation Loss: 0.6731 \tValidation Accuracy: 0.6000\n",
      "Epoch: 17 \tTraining Loss: 0.5733 \tTraining Accuracy: 0.6916 \tValidation Loss: 0.7005 \tValidation Accuracy: 0.6250\n",
      "Epoch: 18 \tTraining Loss: 0.5815 \tTraining Accuracy: 0.6963 \tValidation Loss: 0.7100 \tValidation Accuracy: 0.6250\n",
      "Epoch: 19 \tTraining Loss: 0.5795 \tTraining Accuracy: 0.6916 \tValidation Loss: 0.7238 \tValidation Accuracy: 0.6167\n",
      "Epoch: 20 \tTraining Loss: 0.5796 \tTraining Accuracy: 0.6893 \tValidation Loss: 0.7274 \tValidation Accuracy: 0.6250\n",
      "Epoch: 21 \tTraining Loss: 0.5665 \tTraining Accuracy: 0.7103 \tValidation Loss: 0.7217 \tValidation Accuracy: 0.6333\n",
      "Epoch: 22 \tTraining Loss: 0.5534 \tTraining Accuracy: 0.6776 \tValidation Loss: 0.7353 \tValidation Accuracy: 0.6417\n",
      "Epoch    22: reducing learning rate of group 0 to 1.0000e-05.\n",
      "Epoch: 23 \tTraining Loss: 0.5598 \tTraining Accuracy: 0.6893 \tValidation Loss: 0.7506 \tValidation Accuracy: 0.6000\n",
      "Epoch: 24 \tTraining Loss: 0.5403 \tTraining Accuracy: 0.7266 \tValidation Loss: 0.7528 \tValidation Accuracy: 0.6000\n",
      "Epoch: 25 \tTraining Loss: 0.5408 \tTraining Accuracy: 0.7126 \tValidation Loss: 0.7527 \tValidation Accuracy: 0.6083\n",
      "Epoch: 26 \tTraining Loss: 0.5608 \tTraining Accuracy: 0.7033 \tValidation Loss: 0.7562 \tValidation Accuracy: 0.6167\n",
      "Epoch: 27 \tTraining Loss: 0.5435 \tTraining Accuracy: 0.7243 \tValidation Loss: 0.7587 \tValidation Accuracy: 0.6167\n",
      "Epoch: 28 \tTraining Loss: 0.5516 \tTraining Accuracy: 0.6986 \tValidation Loss: 0.7593 \tValidation Accuracy: 0.6000\n",
      "Epoch: 29 \tTraining Loss: 0.5559 \tTraining Accuracy: 0.7220 \tValidation Loss: 0.7596 \tValidation Accuracy: 0.6000\n",
      "Epoch    29: reducing learning rate of group 0 to 1.0000e-06.\n",
      "Epoch: 30 \tTraining Loss: 0.5590 \tTraining Accuracy: 0.7360 \tValidation Loss: 0.7589 \tValidation Accuracy: 0.6000\n",
      "Epoch: 31 \tTraining Loss: 0.5704 \tTraining Accuracy: 0.6869 \tValidation Loss: 0.7586 \tValidation Accuracy: 0.6000\n",
      "Epoch: 32 \tTraining Loss: 0.5566 \tTraining Accuracy: 0.7126 \tValidation Loss: 0.7585 \tValidation Accuracy: 0.6000\n",
      "Epoch: 33 \tTraining Loss: 0.5608 \tTraining Accuracy: 0.7220 \tValidation Loss: 0.7585 \tValidation Accuracy: 0.6000\n",
      "Epoch: 34 \tTraining Loss: 0.5464 \tTraining Accuracy: 0.6963 \tValidation Loss: 0.7587 \tValidation Accuracy: 0.6000\n",
      "Epoch: 35 \tTraining Loss: 0.5455 \tTraining Accuracy: 0.7126 \tValidation Loss: 0.7588 \tValidation Accuracy: 0.6000\n",
      "Epoch: 36 \tTraining Loss: 0.5625 \tTraining Accuracy: 0.7126 \tValidation Loss: 0.7588 \tValidation Accuracy: 0.6000\n",
      "Epoch    36: reducing learning rate of group 0 to 1.0000e-07.\n",
      "Epoch: 37 \tTraining Loss: 0.5573 \tTraining Accuracy: 0.6893 \tValidation Loss: 0.7589 \tValidation Accuracy: 0.6000\n",
      "Epoch: 38 \tTraining Loss: 0.5403 \tTraining Accuracy: 0.7103 \tValidation Loss: 0.7589 \tValidation Accuracy: 0.6000\n",
      "Epoch: 39 \tTraining Loss: 0.5528 \tTraining Accuracy: 0.7126 \tValidation Loss: 0.7589 \tValidation Accuracy: 0.6000\n",
      "Epoch: 40 \tTraining Loss: 0.5377 \tTraining Accuracy: 0.6963 \tValidation Loss: 0.7589 \tValidation Accuracy: 0.6000\n",
      "Epoch: 41 \tTraining Loss: 0.5343 \tTraining Accuracy: 0.7173 \tValidation Loss: 0.7589 \tValidation Accuracy: 0.6000\n",
      "Epoch: 42 \tTraining Loss: 0.5597 \tTraining Accuracy: 0.6963 \tValidation Loss: 0.7589 \tValidation Accuracy: 0.6000\n",
      "Epoch: 43 \tTraining Loss: 0.5513 \tTraining Accuracy: 0.6963 \tValidation Loss: 0.7589 \tValidation Accuracy: 0.6000\n",
      "Epoch    43: reducing learning rate of group 0 to 1.0000e-08.\n",
      "Epoch: 44 \tTraining Loss: 0.5433 \tTraining Accuracy: 0.7173 \tValidation Loss: 0.7589 \tValidation Accuracy: 0.6000\n",
      "Epoch: 45 \tTraining Loss: 0.5562 \tTraining Accuracy: 0.7056 \tValidation Loss: 0.7589 \tValidation Accuracy: 0.6000\n",
      "Epoch: 46 \tTraining Loss: 0.5529 \tTraining Accuracy: 0.6893 \tValidation Loss: 0.7589 \tValidation Accuracy: 0.6000\n",
      "Epoch: 47 \tTraining Loss: 0.5519 \tTraining Accuracy: 0.7126 \tValidation Loss: 0.7589 \tValidation Accuracy: 0.6000\n",
      "Epoch: 48 \tTraining Loss: 0.5593 \tTraining Accuracy: 0.7126 \tValidation Loss: 0.7589 \tValidation Accuracy: 0.6000\n",
      "Epoch: 49 \tTraining Loss: 0.5259 \tTraining Accuracy: 0.7056 \tValidation Loss: 0.7589 \tValidation Accuracy: 0.6000\n",
      "Epoch: 50 \tTraining Loss: 0.5436 \tTraining Accuracy: 0.7056 \tValidation Loss: 0.7589 \tValidation Accuracy: 0.6000\n",
      "Epoch: 51 \tTraining Loss: 0.5277 \tTraining Accuracy: 0.7243 \tValidation Loss: 0.7589 \tValidation Accuracy: 0.6000\n",
      "Epoch: 52 \tTraining Loss: 0.5325 \tTraining Accuracy: 0.7290 \tValidation Loss: 0.7589 \tValidation Accuracy: 0.6000\n",
      "Epoch: 53 \tTraining Loss: 0.5675 \tTraining Accuracy: 0.6916 \tValidation Loss: 0.7589 \tValidation Accuracy: 0.6000\n",
      "Epoch: 54 \tTraining Loss: 0.5524 \tTraining Accuracy: 0.7079 \tValidation Loss: 0.7589 \tValidation Accuracy: 0.6000\n",
      "Epoch: 55 \tTraining Loss: 0.5484 \tTraining Accuracy: 0.7009 \tValidation Loss: 0.7589 \tValidation Accuracy: 0.6000\n",
      "Epoch: 56 \tTraining Loss: 0.5298 \tTraining Accuracy: 0.7266 \tValidation Loss: 0.7589 \tValidation Accuracy: 0.6000\n",
      "Epoch: 57 \tTraining Loss: 0.5555 \tTraining Accuracy: 0.6916 \tValidation Loss: 0.7589 \tValidation Accuracy: 0.6000\n",
      "Epoch: 58 \tTraining Loss: 0.5371 \tTraining Accuracy: 0.7079 \tValidation Loss: 0.7589 \tValidation Accuracy: 0.6000\n",
      "Epoch: 59 \tTraining Loss: 0.5433 \tTraining Accuracy: 0.7033 \tValidation Loss: 0.7589 \tValidation Accuracy: 0.6000\n",
      "Epoch: 60 \tTraining Loss: 0.5527 \tTraining Accuracy: 0.7009 \tValidation Loss: 0.7589 \tValidation Accuracy: 0.6000\n",
      "Epoch: 61 \tTraining Loss: 0.5355 \tTraining Accuracy: 0.7196 \tValidation Loss: 0.7589 \tValidation Accuracy: 0.6000\n",
      "Epoch: 62 \tTraining Loss: 0.5498 \tTraining Accuracy: 0.7150 \tValidation Loss: 0.7589 \tValidation Accuracy: 0.6000\n",
      "Epoch: 63 \tTraining Loss: 0.5641 \tTraining Accuracy: 0.7290 \tValidation Loss: 0.7589 \tValidation Accuracy: 0.6000\n",
      "Epoch: 64 \tTraining Loss: 0.5378 \tTraining Accuracy: 0.7313 \tValidation Loss: 0.7589 \tValidation Accuracy: 0.6000\n",
      "Epoch: 65 \tTraining Loss: 0.5477 \tTraining Accuracy: 0.7196 \tValidation Loss: 0.7589 \tValidation Accuracy: 0.6000\n",
      "Epoch: 66 \tTraining Loss: 0.5408 \tTraining Accuracy: 0.6963 \tValidation Loss: 0.7589 \tValidation Accuracy: 0.6000\n",
      "Epoch: 67 \tTraining Loss: 0.5570 \tTraining Accuracy: 0.6659 \tValidation Loss: 0.7589 \tValidation Accuracy: 0.6000\n",
      "Epoch: 68 \tTraining Loss: 0.5540 \tTraining Accuracy: 0.7033 \tValidation Loss: 0.7589 \tValidation Accuracy: 0.6000\n",
      "Epoch: 69 \tTraining Loss: 0.5533 \tTraining Accuracy: 0.6916 \tValidation Loss: 0.7589 \tValidation Accuracy: 0.6000\n",
      "Epoch: 70 \tTraining Loss: 0.5332 \tTraining Accuracy: 0.7056 \tValidation Loss: 0.7589 \tValidation Accuracy: 0.6000\n",
      "Epoch: 71 \tTraining Loss: 0.5608 \tTraining Accuracy: 0.7103 \tValidation Loss: 0.7589 \tValidation Accuracy: 0.6000\n",
      "Epoch: 72 \tTraining Loss: 0.5476 \tTraining Accuracy: 0.7477 \tValidation Loss: 0.7589 \tValidation Accuracy: 0.6000\n",
      "Epoch: 73 \tTraining Loss: 0.5691 \tTraining Accuracy: 0.7079 \tValidation Loss: 0.7589 \tValidation Accuracy: 0.6000\n",
      "Epoch: 74 \tTraining Loss: 0.5571 \tTraining Accuracy: 0.7033 \tValidation Loss: 0.7589 \tValidation Accuracy: 0.6000\n",
      "Epoch: 75 \tTraining Loss: 0.5416 \tTraining Accuracy: 0.6939 \tValidation Loss: 0.7589 \tValidation Accuracy: 0.6000\n",
      "Epoch: 76 \tTraining Loss: 0.5460 \tTraining Accuracy: 0.7079 \tValidation Loss: 0.7589 \tValidation Accuracy: 0.6000\n",
      "Epoch: 77 \tTraining Loss: 0.5581 \tTraining Accuracy: 0.7056 \tValidation Loss: 0.7589 \tValidation Accuracy: 0.6000\n",
      "Epoch: 78 \tTraining Loss: 0.5471 \tTraining Accuracy: 0.7056 \tValidation Loss: 0.7589 \tValidation Accuracy: 0.6000\n",
      "Epoch: 79 \tTraining Loss: 0.5338 \tTraining Accuracy: 0.7009 \tValidation Loss: 0.7589 \tValidation Accuracy: 0.6000\n",
      "Epoch: 80 \tTraining Loss: 0.5512 \tTraining Accuracy: 0.6916 \tValidation Loss: 0.7589 \tValidation Accuracy: 0.6000\n",
      "Epoch: 81 \tTraining Loss: 0.5372 \tTraining Accuracy: 0.7150 \tValidation Loss: 0.7589 \tValidation Accuracy: 0.6000\n",
      "Epoch: 82 \tTraining Loss: 0.5428 \tTraining Accuracy: 0.7383 \tValidation Loss: 0.7589 \tValidation Accuracy: 0.6000\n",
      "Epoch: 83 \tTraining Loss: 0.5486 \tTraining Accuracy: 0.6822 \tValidation Loss: 0.7589 \tValidation Accuracy: 0.6000\n",
      "Epoch: 84 \tTraining Loss: 0.5502 \tTraining Accuracy: 0.7173 \tValidation Loss: 0.7589 \tValidation Accuracy: 0.6000\n",
      "Epoch: 85 \tTraining Loss: 0.5562 \tTraining Accuracy: 0.6916 \tValidation Loss: 0.7589 \tValidation Accuracy: 0.6000\n",
      "Epoch: 86 \tTraining Loss: 0.5352 \tTraining Accuracy: 0.7266 \tValidation Loss: 0.7589 \tValidation Accuracy: 0.6000\n",
      "Epoch: 87 \tTraining Loss: 0.5338 \tTraining Accuracy: 0.7033 \tValidation Loss: 0.7589 \tValidation Accuracy: 0.6000\n",
      "Epoch: 88 \tTraining Loss: 0.5611 \tTraining Accuracy: 0.7196 \tValidation Loss: 0.7589 \tValidation Accuracy: 0.6000\n",
      "Epoch: 89 \tTraining Loss: 0.5581 \tTraining Accuracy: 0.6963 \tValidation Loss: 0.7589 \tValidation Accuracy: 0.6000\n",
      "Epoch: 90 \tTraining Loss: 0.5615 \tTraining Accuracy: 0.6822 \tValidation Loss: 0.7589 \tValidation Accuracy: 0.6000\n",
      "Epoch: 91 \tTraining Loss: 0.5513 \tTraining Accuracy: 0.6869 \tValidation Loss: 0.7589 \tValidation Accuracy: 0.6000\n",
      "Epoch: 92 \tTraining Loss: 0.5328 \tTraining Accuracy: 0.7079 \tValidation Loss: 0.7589 \tValidation Accuracy: 0.6000\n",
      "Epoch: 93 \tTraining Loss: 0.5485 \tTraining Accuracy: 0.7126 \tValidation Loss: 0.7589 \tValidation Accuracy: 0.6000\n",
      "Epoch: 94 \tTraining Loss: 0.5534 \tTraining Accuracy: 0.7150 \tValidation Loss: 0.7589 \tValidation Accuracy: 0.6000\n",
      "Epoch: 95 \tTraining Loss: 0.5789 \tTraining Accuracy: 0.6776 \tValidation Loss: 0.7589 \tValidation Accuracy: 0.6000\n",
      "Epoch: 96 \tTraining Loss: 0.5605 \tTraining Accuracy: 0.6565 \tValidation Loss: 0.7589 \tValidation Accuracy: 0.6000\n",
      "Epoch: 97 \tTraining Loss: 0.5690 \tTraining Accuracy: 0.6869 \tValidation Loss: 0.7589 \tValidation Accuracy: 0.6000\n",
      "Epoch: 98 \tTraining Loss: 0.5421 \tTraining Accuracy: 0.6869 \tValidation Loss: 0.7589 \tValidation Accuracy: 0.6000\n",
      "Epoch: 99 \tTraining Loss: 0.5569 \tTraining Accuracy: 0.7336 \tValidation Loss: 0.7589 \tValidation Accuracy: 0.6000\n",
      "Epoch: 100 \tTraining Loss: 0.5587 \tTraining Accuracy: 0.6963 \tValidation Loss: 0.7589 \tValidation Accuracy: 0.6000\n"
     ]
    }
   ],
   "source": [
    "runNN(train_loader, val_loader,test_loader,'lenet',trainset)"
   ]
  },
  {
   "cell_type": "markdown",
   "metadata": {},
   "source": [
    "### Plot the Loss curves"
   ]
  },
  {
   "cell_type": "code",
   "execution_count": 36,
   "metadata": {},
   "outputs": [
    {
     "data": {
      "text/plain": [
       "Text(0.5, 1.0, 'Loss Curves')"
      ]
     },
     "execution_count": 36,
     "metadata": {},
     "output_type": "execute_result"
    },
    {
     "data": {
      "image/png": "[encoded data removed]",
      "text/plain": [
       "<Figure size 576x432 with 1 Axes>"
      ]
     },
     "metadata": {
      "needs_background": "light"
     },
     "output_type": "display_data"
    }
   ],
   "source": [
    "plt.figure(figsize=[8,6])\n",
    "plt.plot(train_loss_lst,'r',linewidth=3.0)\n",
    "plt.plot(val_loss_lst,'b',linewidth=3.0)\n",
    "plt.legend(['Training loss', 'Validation Loss'],fontsize=18)\n",
    "plt.xlabel('Epochs ',fontsize=16)\n",
    "plt.ylabel('Loss',fontsize=16)\n",
    "plt.title('Loss Curves',fontsize=16)"
   ]
  },
  {
   "cell_type": "markdown",
   "metadata": {},
   "source": [
    "### Plot the Accuracy curves"
   ]
  },
  {
   "cell_type": "code",
   "execution_count": 37,
   "metadata": {},
   "outputs": [
    {
     "data": {
      "text/plain": [
       "Text(0.5, 1.0, 'Accuracy Curves')"
      ]
     },
     "execution_count": 37,
     "metadata": {},
     "output_type": "execute_result"
    },
    {
     "data": {
      "image/png": "[encoded data removed]",
      "text/plain": [
       "<Figure size 576x432 with 1 Axes>"
      ]
     },
     "metadata": {
      "needs_background": "light"
     },
     "output_type": "display_data"
    }
   ],
   "source": [
    "plt.figure(figsize=[8,6])\n",
    "plt.plot(train_acc_lst,'r',linewidth=3.0)\n",
    "plt.plot(val_acc_lst,'b',linewidth=3.0)\n",
    "plt.legend(['Training Accuracy', 'Validation Accuracy'],fontsize=18)\n",
    "plt.xlabel('Epochs ',fontsize=16)\n",
    "plt.ylabel('Accuracy',fontsize=16)\n",
    "plt.title('Accuracy Curves',fontsize=16)"
   ]
  },
  {
   "cell_type": "markdown",
   "metadata": {},
   "source": [
    "### Prediction"
   ]
  },
  {
   "cell_type": "code",
   "execution_count": 38,
   "metadata": {},
   "outputs": [
    {
     "name": "stdout",
     "output_type": "stream",
     "text": [
      "COVID 53.19758224487305 %\n"
     ]
    }
   ],
   "source": [
    "labels = ['COVID', 'NON_COVID']\n",
    "model_NN = LeNet(outputs,inputs)\n",
    "checkpoint = torch.load(\"./checkpoints/model_lenet_neural_network.pt\")\n",
    "model_NN.load_state_dict(checkpoint)\n",
    "model_NN.eval()\n",
    "if torch.cuda.is_available():\n",
    "    model_NN.cuda()\n",
    "img = Image.open(\"./Images-processed/CT_COVID/2019-novel-Coronavirus-severe-adult-respiratory-dist_2020_International-Jour-p3-89%0.png\")\n",
    "img_t = train_transformer(img)\n",
    "batch_t = torch.unsqueeze(img_t,0).to(device)\n",
    "out = model_NN(batch_t)\n",
    "_, index = torch.max(out, 1)\n",
    "percentage = torch.nn.functional.softmax(out, dim=1)[0] * 100\n",
    "print(labels[index[0]], percentage[index[0]].item() ,\"%\")"
   ]
  },
  {
   "cell_type": "markdown",
   "metadata": {},
   "source": [
    "### Evaluate the model"
   ]
  },
  {
   "cell_type": "code",
   "execution_count": 39,
   "metadata": {},
   "outputs": [],
   "source": [
    "pred = []\n",
    "labels = ['COVID', 'NON_COVID']\n",
    "for i, batch_samples in enumerate(test_loader, 1):\n",
    "        inputs = batch_samples['img']\n",
    "        out = model_NN(inputs.to(device))\n",
    "        _, index = torch.max(out, 1)\n",
    "        pred.append(labels[index[0]])\n",
    "        \n",
    "for i in range(len(pred)):\n",
    "        if pred[i] == \"COVID\":\n",
    "            pred[i] = 0\n",
    "        else:\n",
    "            pred[i] = 1"
   ]
  },
  {
   "cell_type": "markdown",
   "metadata": {},
   "source": [
    "### Accuracy"
   ]
  },
  {
   "cell_type": "code",
   "execution_count": 40,
   "metadata": {},
   "outputs": [
    {
     "data": {
      "text/plain": [
       "0.5882352941176471"
      ]
     },
     "execution_count": 40,
     "metadata": {},
     "output_type": "execute_result"
    }
   ],
   "source": [
    "accuracy_score(new_actual_labels, pred)"
   ]
  },
  {
   "cell_type": "markdown",
   "metadata": {},
   "source": [
    "### F1 Score"
   ]
  },
  {
   "cell_type": "code",
   "execution_count": 41,
   "metadata": {},
   "outputs": [
    {
     "data": {
      "text/plain": [
       "0.5116279069767442"
      ]
     },
     "execution_count": 41,
     "metadata": {},
     "output_type": "execute_result"
    }
   ],
   "source": [
    "f1_score(new_actual_labels, pred)"
   ]
  },
  {
   "cell_type": "markdown",
   "metadata": {},
   "source": [
    "### Confusion matrix"
   ]
  },
  {
   "cell_type": "code",
   "execution_count": 42,
   "metadata": {},
   "outputs": [
    {
     "data": {
      "text/plain": [
       "array([[19,  6],\n",
       "       [15, 11]], dtype=int64)"
      ]
     },
     "execution_count": 42,
     "metadata": {},
     "output_type": "execute_result"
    }
   ],
   "source": [
    "confusion_matrix(new_actual_labels, pred)"
   ]
  }
 ],
 "metadata": {
  "accelerator": "GPU",
  "colab": {
   "collapsed_sections": [],
   "name": "covid19PGM.ipynb",
   "provenance": []
  },
  "kernelspec": {
   "display_name": "Python 3",
   "language": "python",
   "name": "python3"
  },
  "language_info": {
   "codemirror_mode": {
    "name": "ipython",
    "version": 3
   },
   "file_extension": ".py",
   "mimetype": "text/x-python",
   "name": "python",
   "nbconvert_exporter": "python",
   "pygments_lexer": "ipython3",
   "version": "3.7.3"
  }
 },
 "nbformat": 4,
 "nbformat_minor": 1
}
